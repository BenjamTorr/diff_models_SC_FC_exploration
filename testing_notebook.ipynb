{
 "cells": [
  {
   "cell_type": "markdown",
   "metadata": {},
   "source": [
    "### This notebook is for testing code and eventually move it to a more organized file"
   ]
  },
  {
   "cell_type": "code",
   "execution_count": 7,
   "metadata": {},
   "outputs": [],
   "source": [
    "from SCFC_data_extraction import *\n",
    "import torch\n",
    "import pandas as pd"
   ]
  },
  {
   "cell_type": "code",
   "execution_count": 14,
   "metadata": {},
   "outputs": [
    {
     "data": {
      "text/plain": [
       "(1058, 68, 68)"
      ]
     },
     "execution_count": 14,
     "metadata": {},
     "output_type": "execute_result"
    }
   ],
   "source": [
    "ids, cortical_FC, cortical_SC = load_cortical_SC_FC()\n",
    "cortical_FC.shape"
   ]
  },
  {
   "cell_type": "code",
   "execution_count": 9,
   "metadata": {},
   "outputs": [],
   "source": [
    "class corticalSCFCDataset(torch.utils.data.Dataset):\n",
    "    \"\"\"\n",
    "        Data for the diffusion model \n",
    "    \"\"\"\n",
    "\n",
    "    def __init__(self, FC_matrices, SC_matrices, data_transform=None, condition_transform=None):\n",
    "        \"\"\"\n",
    "            Initialization FC is X and SC is condition \n",
    "        \"\"\"\n",
    "        assert len(FC_matrices) == len(SC_matrices), \"FC and SC must have the same length\"\n",
    "        self.FC_matrices = FC_matrices\n",
    "        self.SC_matrices = SC_matrices\n",
    "        self.data_transform = data_transform\n",
    "        self.condition_transform = condition_transform\n",
    "\n",
    "    def __len__(self):\n",
    "        return len(self.FC_matrices)\n",
    "\n",
    "    def __getitem(self, idx):\n",
    "        data = self.FC_matrices[idx]\n",
    "        condition = self.SC_matrices[idx]\n",
    "        if not isinstance(data, torch.Tensor):\n",
    "            data = torch.tensor(data, dtype=torch.float32)\n",
    "        if not isinstance(data, torch.Tensor):\n",
    "            condition = torch.tensor(condition, dtype=torch.float32)\n",
    "        \n",
    "        return data, condition\n"
   ]
  },
  {
   "cell_type": "markdown",
   "metadata": {},
   "source": [
    "## Model"
   ]
  },
  {
   "cell_type": "code",
   "execution_count": 10,
   "metadata": {},
   "outputs": [],
   "source": [
    "device = torch.device(\"cuda\" if torch.cuda.is_available() else \"cpu\")\n",
    "class corticalSCFCDataset(torch.utils.data.Dataset):\n",
    "    \"\"\"\n",
    "        Data for the diffusion model \n",
    "    \"\"\"\n",
    "\n",
    "    def __init__(self, FC_matrices, SC_matrices, data_transform=None, condition_transform=None):\n",
    "        \"\"\"\n",
    "            Initialization FC is X and SC is condition \n",
    "        \"\"\"\n",
    "        assert len(FC_matrices) == len(SC_matrices), \"FC and SC must have the same length\"\n",
    "        self.FC_matrices = FC_matrices\n",
    "        self.SC_matrices = SC_matrices\n",
    "        self.data_transform = data_transform\n",
    "        self.condition_transform = condition_transform\n",
    "\n",
    "    def __len__(self):\n",
    "        return len(self.FC_matrices)\n",
    "\n",
    "    def __getitem(self, idx):\n",
    "        data = self.FC_matrices[idx]\n",
    "        condition = self.SC_matrices[idx]\n",
    "        if not isinstance(data, torch.Tensor):\n",
    "            data = torch.tensor(data, dtype=torch.float32)\n",
    "        if not isinstance(data, torch.Tensor):\n",
    "            condition = torch.tensor(condition, dtype=torch.float32)\n",
    "        \n",
    "        return data, condition"
   ]
  },
  {
   "cell_type": "markdown",
   "metadata": {},
   "source": [
    "## Model"
   ]
  },
  {
   "cell_type": "code",
   "execution_count": 13,
   "metadata": {},
   "outputs": [
    {
     "name": "stdout",
     "output_type": "stream",
     "text": [
      "Using device: cuda\tNVIDIA RTX A6000\n"
     ]
    }
   ],
   "source": [
    "device = torch.device(\"cuda\" if torch.cuda.is_available() else \"cpu\")\n",
    "print(f\"Using device: {device}\\t\" + (f\"{torch.cuda.get_device_name(0)}\" if torch.cuda.is_available() else \"CPU\"))"
   ]
  },
  {
   "cell_type": "code",
   "execution_count": 15,
   "metadata": {},
   "outputs": [],
   "source": [
    "class MyDDPM(nn.Module):\n",
    "    def __init__(self, network, n_steps=200, min_beta=10 ** -4, max_beta=0.02, device=None, matrix_hw=(68, 68)):\n",
    "        super(MyDDPM, self).__init__()\n",
    "        self.n_steps = n_steps\n",
    "        self.device = device\n",
    "        self.image_chw = matrix_hw\n",
    "        self.network = network.to(device)\n",
    "        self.betas = torch.linspace(min_beta, max_beta, n_steps).to(\n",
    "            device)  # Number of steps is typically in the order of thousands\n",
    "        self.alphas = 1 - self.betas\n",
    "        self.alpha_bars = torch.tensor([torch.prod(self.alphas[:i + 1]) for i in range(len(self.alphas))]).to(device)\n",
    "\n",
    "    def forward(self, x0, t, eta=None):\n",
    "        # Make input image more noisy (we can directly skip to the desired step)\n",
    "        n, h, w = x0.shape\n",
    "        a_bar = self.alpha_bars[t]\n",
    "\n",
    "        if eta is None:\n",
    "            eta = torch.randn(n, h, w).to(self.device)\n",
    "\n",
    "        noisy = a_bar.sqrt().reshape(n, 1, 1) * x0 + (1 - a_bar).sqrt().reshape(n, 1, 1) * eta\n",
    "        return noisy\n",
    "\n",
    "    def backward(self, x, t, condition):\n",
    "        # Run each image through the network for each timestep t in the vector t.\n",
    "        # The network returns its estimation of the noise that was added.\n",
    "        return self.network(x, t, condition)"
   ]
  },
  {
   "cell_type": "code",
   "execution_count": null,
   "metadata": {},
   "outputs": [],
   "source": []
  }
 ],
 "metadata": {
  "kernelspec": {
   "display_name": "CSDI",
   "language": "python",
   "name": "python3"
  },
  "language_info": {
   "codemirror_mode": {
    "name": "ipython",
    "version": 3
   },
   "file_extension": ".py",
   "mimetype": "text/x-python",
   "name": "python",
   "nbconvert_exporter": "python",
   "pygments_lexer": "ipython3",
   "version": "3.11.11"
  }
 },
 "nbformat": 4,
 "nbformat_minor": 2
}
